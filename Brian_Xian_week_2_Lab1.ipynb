{
  "cells": [
    {
      "cell_type": "markdown",
      "metadata": {
        "id": "view-in-github",
        "colab_type": "text"
      },
      "source": [
        "<a href=\"https://colab.research.google.com/github/BrianXian20/Data-analysis/blob/main/Brian_Xian_week_2_Lab1.ipynb\" target=\"_parent\"><img src=\"https://colab.research.google.com/assets/colab-badge.svg\" alt=\"Open In Colab\"/></a>"
      ]
    },
    {
      "cell_type": "markdown",
      "source": [
        "#Data Analysis Y3. [Lab Week 2]\n",
        "\n",
        "\n"
      ],
      "metadata": {
        "id": "ONgQ1S-KT3iY"
      }
    },
    {
      "cell_type": "markdown",
      "metadata": {
        "id": "hYJisoOdNtDM"
      },
      "source": [
        "# 1.  Numpy Lab\n",
        "\n",
        "# New Section"
      ]
    },
    {
      "cell_type": "markdown",
      "metadata": {
        "id": "ocfHNtZcNtDM"
      },
      "source": [
        "#### Import NumPy as np"
      ]
    },
    {
      "cell_type": "code",
      "execution_count": null,
      "metadata": {
        "collapsed": true,
        "id": "NqubbrJsNtDM"
      },
      "outputs": [],
      "source": [
        "import numpy as np"
      ]
    },
    {
      "cell_type": "markdown",
      "metadata": {
        "id": "itcmCOLwNtDM"
      },
      "source": [
        "#### Create an array of 10 zeros"
      ]
    },
    {
      "cell_type": "code",
      "execution_count": null,
      "metadata": {
        "id": "PRW2qba4NtDM",
        "outputId": "990f21f0-8b37-49fc-8cf2-d29f2d6b3fe4",
        "colab": {
          "base_uri": "https://localhost:8080/"
        }
      },
      "outputs": [
        {
          "output_type": "stream",
          "name": "stdout",
          "text": [
            "An array of 10 zeros:\n",
            "[0. 0. 0. 0. 0. 0. 0. 0. 0. 0.]\n"
          ]
        }
      ],
      "source": [
        "array=np.zeros(10)\n",
        "print(\"An array of 10 zeros:\")\n",
        "print(array)"
      ]
    },
    {
      "cell_type": "markdown",
      "metadata": {
        "id": "ZmXS4A8xNtDN"
      },
      "source": [
        "#### Create an array of 10 ones"
      ]
    },
    {
      "cell_type": "code",
      "execution_count": null,
      "metadata": {
        "id": "lNIgJf-YNtDN",
        "outputId": "c5ddf732-8415-4b19-b823-e9e1344cf6a4",
        "colab": {
          "base_uri": "https://localhost:8080/"
        }
      },
      "outputs": [
        {
          "output_type": "stream",
          "name": "stdout",
          "text": [
            "An array of 10 ones:\n",
            "[1. 1. 1. 1. 1. 1. 1. 1. 1. 1.]\n"
          ]
        }
      ],
      "source": [
        "array=np.ones(10)\n",
        "print(\"An array of 10 ones:\")\n",
        "print(array)"
      ]
    },
    {
      "cell_type": "markdown",
      "metadata": {
        "id": "XCrUzXarNtDN"
      },
      "source": [
        "#### Create an array of 10 fives"
      ]
    },
    {
      "cell_type": "code",
      "execution_count": null,
      "metadata": {
        "id": "rOAu8VvfNtDN",
        "outputId": "4f465e45-762c-47e0-e0fe-f97178d64f20",
        "colab": {
          "base_uri": "https://localhost:8080/"
        }
      },
      "outputs": [
        {
          "output_type": "stream",
          "name": "stdout",
          "text": [
            "An array of 10 fives:\n",
            "[5. 5. 5. 5. 5. 5. 5. 5. 5. 5.]\n"
          ]
        }
      ],
      "source": [
        "array=np.ones(10)*5\n",
        "print(\"An array of 10 fives:\")\n",
        "print(array)"
      ]
    },
    {
      "cell_type": "markdown",
      "metadata": {
        "id": "NDXJywRANtDO"
      },
      "source": [
        "#### Create an array of the integers from 10 to 50"
      ]
    },
    {
      "cell_type": "code",
      "execution_count": null,
      "metadata": {
        "id": "5Sh0nk9_NtDO",
        "outputId": "b5f5664d-fca1-4ee8-8b83-d3e00790592a",
        "colab": {
          "base_uri": "https://localhost:8080/"
        }
      },
      "outputs": [
        {
          "output_type": "stream",
          "name": "stdout",
          "text": [
            "Array from 10 to 50:\n",
            "[10 11 12 13 14 15 16 17 18 19 20 21 22 23 24 25 26 27 28 29 30 31 32 33\n",
            " 34 35 36 37 38 39 40 41 42 43 44 45 46 47 48 49]\n"
          ]
        }
      ],
      "source": [
        "x = np.arange(10, 50)\n",
        "print(\"Array from 10 to 50:\")\n",
        "print(x)"
      ]
    },
    {
      "cell_type": "markdown",
      "metadata": {
        "id": "bG9Zd6tANtDO"
      },
      "source": [
        "#### Create an array of all the even integers from 10 to 50"
      ]
    },
    {
      "cell_type": "code",
      "execution_count": null,
      "metadata": {
        "id": "Qbh0lFAuNtDO",
        "outputId": "1e8c1b18-7c72-4ed4-f7d2-0e781d050ed0",
        "colab": {
          "base_uri": "https://localhost:8080/"
        }
      },
      "outputs": [
        {
          "output_type": "stream",
          "name": "stdout",
          "text": [
            "Array of all the even integers from 10 to 50\n",
            "[10 12 14 16 18 20 22 24 26 28 30 32 34 36 38 40 42 44 46 48]\n"
          ]
        }
      ],
      "source": [
        "array=np.arange(10,50,2)\n",
        "print(\"Array of all the even integers from 10 to 50\")\n",
        "print(array)"
      ]
    },
    {
      "cell_type": "markdown",
      "metadata": {
        "id": "mAwOBKXCNtDO"
      },
      "source": [
        "#### Create a 3x3 matrix with values ranging from 0 to 8"
      ]
    },
    {
      "cell_type": "code",
      "execution_count": null,
      "metadata": {
        "id": "pErb11qhNtDO",
        "outputId": "ec85c218-773f-4852-880d-48404b9697db",
        "colab": {
          "base_uri": "https://localhost:8080/"
        }
      },
      "outputs": [
        {
          "output_type": "stream",
          "name": "stdout",
          "text": [
            "[[0 1 2]\n",
            " [3 4 5]\n",
            " [6 7 8]]\n"
          ]
        }
      ],
      "source": [
        "x =  np.arange(0, 9).reshape(3,3)\n",
        "print(x)"
      ]
    },
    {
      "cell_type": "markdown",
      "metadata": {
        "id": "S0m4KTE5NtDO"
      },
      "source": [
        "#### Create a 3x3 identity matrix"
      ]
    },
    {
      "cell_type": "code",
      "execution_count": null,
      "metadata": {
        "id": "v3JO3gH4NtDO",
        "outputId": "36993f15-0353-40eb-bd4c-77ba7433bce8",
        "colab": {
          "base_uri": "https://localhost:8080/"
        }
      },
      "outputs": [
        {
          "output_type": "stream",
          "name": "stdout",
          "text": [
            "Array 3x3 matrix:\n",
            "[[1. 0. 0.]\n",
            " [0. 1. 0.]\n",
            " [0. 0. 1.]]\n"
          ]
        }
      ],
      "source": [
        "array_2D=np.identity(3)\n",
        "print('Array 3x3 matrix:')\n",
        "print(array_2D)"
      ]
    },
    {
      "cell_type": "markdown",
      "metadata": {
        "id": "VOVjDSQANtDP"
      },
      "source": [
        "#### Use NumPy to generate a random number between 0 and 1"
      ]
    },
    {
      "cell_type": "code",
      "execution_count": null,
      "metadata": {
        "id": "ml6JVo8-NtDP",
        "outputId": "d969755b-7354-4bf4-b090-21fa89249daa",
        "colab": {
          "base_uri": "https://localhost:8080/"
        }
      },
      "outputs": [
        {
          "output_type": "execute_result",
          "data": {
            "text/plain": [
              "0.514468632292081"
            ]
          },
          "metadata": {},
          "execution_count": 13
        }
      ],
      "source": [
        "np.random.uniform(0, 1)"
      ]
    },
    {
      "cell_type": "markdown",
      "metadata": {
        "id": "JEzX7YMENtDP"
      },
      "source": [
        "#### Use NumPy to generate an array of 25 random numbers sampled from a standard normal distribution"
      ]
    },
    {
      "cell_type": "code",
      "execution_count": null,
      "metadata": {
        "id": "lJYWfxS6NtDP",
        "outputId": "7e26740d-4191-4336-9d6d-2421e4a1230f",
        "colab": {
          "base_uri": "https://localhost:8080/"
        }
      },
      "outputs": [
        {
          "output_type": "stream",
          "name": "stdout",
          "text": [
            "[-1.03356879  1.04216384  0.85706062 -0.16011235 -1.53488986 -0.38820796\n",
            "  2.3002811  -0.62902455 -0.13242862 -0.91792298 -0.12974648 -0.93159384\n",
            "  0.91119881  1.93724329  1.03880007 -0.12672557  0.88254571  0.28251561\n",
            "  0.53788241  0.33714981 -1.04636695 -0.29228875 -0.31355257 -0.48686013\n",
            "  1.15862835]\n"
          ]
        }
      ],
      "source": [
        "rand_num = np.random.normal(0,1,25)\n",
        "print(rand_num)"
      ]
    },
    {
      "cell_type": "markdown",
      "metadata": {
        "id": "WBDnxvh2NtDP"
      },
      "source": [
        "#### Create the following matrix:"
      ]
    },
    {
      "cell_type": "code",
      "execution_count": null,
      "metadata": {
        "id": "zy_qRHS2NtDP",
        "outputId": "e442eb5c-2ec9-4741-dbb7-86ecd734fda8",
        "colab": {
          "base_uri": "https://localhost:8080/"
        }
      },
      "outputs": [
        {
          "output_type": "execute_result",
          "data": {
            "text/plain": [
              "array([[0.01, 0.02, 0.03, 0.04, 0.05, 0.06, 0.07, 0.08, 0.09, 0.1 ],\n",
              "       [0.11, 0.12, 0.13, 0.14, 0.15, 0.16, 0.17, 0.18, 0.19, 0.2 ],\n",
              "       [0.21, 0.22, 0.23, 0.24, 0.25, 0.26, 0.27, 0.28, 0.29, 0.3 ],\n",
              "       [0.31, 0.32, 0.33, 0.34, 0.35, 0.36, 0.37, 0.38, 0.39, 0.4 ],\n",
              "       [0.41, 0.42, 0.43, 0.44, 0.45, 0.46, 0.47, 0.48, 0.49, 0.5 ],\n",
              "       [0.51, 0.52, 0.53, 0.54, 0.55, 0.56, 0.57, 0.58, 0.59, 0.6 ],\n",
              "       [0.61, 0.62, 0.63, 0.64, 0.65, 0.66, 0.67, 0.68, 0.69, 0.7 ],\n",
              "       [0.71, 0.72, 0.73, 0.74, 0.75, 0.76, 0.77, 0.78, 0.79, 0.8 ],\n",
              "       [0.81, 0.82, 0.83, 0.84, 0.85, 0.86, 0.87, 0.88, 0.89, 0.9 ],\n",
              "       [0.91, 0.92, 0.93, 0.94, 0.95, 0.96, 0.97, 0.98, 0.99, 1.  ]])"
            ]
          },
          "metadata": {},
          "execution_count": 15
        }
      ],
      "source": [
        "np.arange(1,101).reshape(10,10) / 100"
      ]
    },
    {
      "cell_type": "markdown",
      "metadata": {
        "id": "YSVuCQlpNtDP"
      },
      "source": [
        "#### Create an array of 20 linearly spaced points between 0 and 1:"
      ]
    },
    {
      "cell_type": "code",
      "execution_count": null,
      "metadata": {
        "id": "iNoge73jNtDP",
        "outputId": "bbc541d7-f1a4-4b8c-8987-54ca0e9f2060",
        "colab": {
          "base_uri": "https://localhost:8080/"
        }
      },
      "outputs": [
        {
          "output_type": "execute_result",
          "data": {
            "text/plain": [
              "array([0.        , 0.05263158, 0.10526316, 0.15789474, 0.21052632,\n",
              "       0.26315789, 0.31578947, 0.36842105, 0.42105263, 0.47368421,\n",
              "       0.52631579, 0.57894737, 0.63157895, 0.68421053, 0.73684211,\n",
              "       0.78947368, 0.84210526, 0.89473684, 0.94736842, 1.        ])"
            ]
          },
          "metadata": {},
          "execution_count": 16
        }
      ],
      "source": [
        "np.linspace(0,1,20)"
      ]
    },
    {
      "cell_type": "markdown",
      "metadata": {
        "id": "hI2VIsaTNtDP"
      },
      "source": [
        "## Numpy Indexing and Selection\n",
        "\n",
        "Now you will be given a few matrices, and be asked to replicate the resulting matrix outputs:"
      ]
    },
    {
      "cell_type": "code",
      "execution_count": null,
      "metadata": {
        "id": "jxOElKfMNtDP",
        "outputId": "0c6c39c2-2830-46b6-c97a-ea66a6ef9d36",
        "colab": {
          "base_uri": "https://localhost:8080/"
        }
      },
      "outputs": [
        {
          "output_type": "execute_result",
          "data": {
            "text/plain": [
              "array([[ 1,  2,  3,  4,  5],\n",
              "       [ 6,  7,  8,  9, 10],\n",
              "       [11, 12, 13, 14, 15],\n",
              "       [16, 17, 18, 19, 20],\n",
              "       [21, 22, 23, 24, 25]])"
            ]
          },
          "metadata": {},
          "execution_count": 17
        }
      ],
      "source": [
        "mat = np.arange(1,26).reshape(5,5)\n",
        "mat"
      ]
    },
    {
      "cell_type": "code",
      "execution_count": null,
      "metadata": {
        "collapsed": true,
        "id": "emkOtC2PNtDQ"
      },
      "outputs": [],
      "source": [
        "# WRITE CODE HERE THAT REPRODUCES THE OUTPUT OF THE CELL BELOW\n",
        "# BE CAREFUL NOT TO RUN THE CELL BELOW, OTHERWISE YOU WON'T\n",
        "# BE ABLE TO SEE THE OUTPUT ANY MORE"
      ]
    },
    {
      "cell_type": "code",
      "execution_count": null,
      "metadata": {
        "id": "P_cK-6rPNtDQ",
        "outputId": "f6fb4faf-9cc6-418d-e354-fd4855da53f4",
        "colab": {
          "base_uri": "https://localhost:8080/"
        }
      },
      "outputs": [
        {
          "output_type": "execute_result",
          "data": {
            "text/plain": [
              "array([[12, 13, 14, 15],\n",
              "       [17, 18, 19, 20],\n",
              "       [22, 23, 24, 25]])"
            ]
          },
          "metadata": {},
          "execution_count": 18
        }
      ],
      "source": [
        "mat[2:,1:]"
      ]
    },
    {
      "cell_type": "code",
      "execution_count": null,
      "metadata": {
        "collapsed": true,
        "id": "yqX9CssiNtDQ"
      },
      "outputs": [],
      "source": [
        "# WRITE CODE HERE THAT REPRODUCES THE OUTPUT OF THE CELL BELOW\n",
        "# BE CAREFUL NOT TO RUN THE CELL BELOW, OTHERWISE YOU WON'T\n",
        "# BE ABLE TO SEE THE OUTPUT ANY MORE"
      ]
    },
    {
      "cell_type": "code",
      "execution_count": null,
      "metadata": {
        "id": "DnNIJM0CNtDQ",
        "outputId": "77a89a26-1d3f-4fa7-c224-7b11b577537d",
        "colab": {
          "base_uri": "https://localhost:8080/"
        }
      },
      "outputs": [
        {
          "output_type": "execute_result",
          "data": {
            "text/plain": [
              "20"
            ]
          },
          "metadata": {},
          "execution_count": 19
        }
      ],
      "source": [
        "mat[3,4]"
      ]
    },
    {
      "cell_type": "code",
      "execution_count": null,
      "metadata": {
        "collapsed": true,
        "id": "AFQt0sRHNtDQ"
      },
      "outputs": [],
      "source": [
        "# WRITE CODE HERE THAT REPRODUCES THE OUTPUT OF THE CELL BELOW\n",
        "# BE CAREFUL NOT TO RUN THE CELL BELOW, OTHERWISE YOU WON'T\n",
        "# BE ABLE TO SEE THE OUTPUT ANY MORE"
      ]
    },
    {
      "cell_type": "code",
      "execution_count": null,
      "metadata": {
        "id": "iBKu0yMFNtDQ",
        "outputId": "342d9f76-980c-43a4-991a-da13c41634c0",
        "colab": {
          "base_uri": "https://localhost:8080/"
        }
      },
      "outputs": [
        {
          "output_type": "execute_result",
          "data": {
            "text/plain": [
              "array([[ 2],\n",
              "       [ 7],\n",
              "       [12]])"
            ]
          },
          "metadata": {},
          "execution_count": 20
        }
      ],
      "source": [
        "mat[:3,1:2]"
      ]
    },
    {
      "cell_type": "code",
      "execution_count": null,
      "metadata": {
        "collapsed": true,
        "id": "HlHqijdaNtDQ"
      },
      "outputs": [],
      "source": [
        "# WRITE CODE HERE THAT REPRODUCES THE OUTPUT OF THE CELL BELOW\n",
        "# BE CAREFUL NOT TO RUN THE CELL BELOW, OTHERWISE YOU WON'T\n",
        "# BE ABLE TO SEE THE OUTPUT ANY MORE"
      ]
    },
    {
      "cell_type": "code",
      "execution_count": null,
      "metadata": {
        "id": "10BjA3L3NtDQ",
        "outputId": "fd5084f7-49f1-4fbb-eb67-22c1ec982d8a",
        "colab": {
          "base_uri": "https://localhost:8080/"
        }
      },
      "outputs": [
        {
          "output_type": "execute_result",
          "data": {
            "text/plain": [
              "array([21, 22, 23, 24, 25])"
            ]
          },
          "metadata": {},
          "execution_count": 21
        }
      ],
      "source": [
        "mat[4,:]"
      ]
    },
    {
      "cell_type": "code",
      "execution_count": null,
      "metadata": {
        "collapsed": true,
        "id": "snmQWFY4NtDR"
      },
      "outputs": [],
      "source": [
        "# WRITE CODE HERE THAT REPRODUCES THE OUTPUT OF THE CELL BELOW\n",
        "# BE CAREFUL NOT TO RUN THE CELL BELOW, OTHERWISE YOU WON'T\n",
        "# BE ABLE TO SEE THE OUTPUT ANY MORE"
      ]
    },
    {
      "cell_type": "code",
      "execution_count": null,
      "metadata": {
        "id": "p1f5V9EuNtDR",
        "outputId": "da306893-25f4-4c7a-e316-3fb5005a8456",
        "colab": {
          "base_uri": "https://localhost:8080/"
        }
      },
      "outputs": [
        {
          "output_type": "execute_result",
          "data": {
            "text/plain": [
              "array([[16, 17, 18, 19, 20],\n",
              "       [21, 22, 23, 24, 25]])"
            ]
          },
          "metadata": {},
          "execution_count": 22
        }
      ],
      "source": [
        "mat[3:5,:]"
      ]
    },
    {
      "cell_type": "markdown",
      "metadata": {
        "id": "dD3kXx1dNtDR"
      },
      "source": [
        "### Now do the following"
      ]
    },
    {
      "cell_type": "markdown",
      "metadata": {
        "id": "nRMCC4lrNtDX"
      },
      "source": [
        "#### Get the sum of all the values in mat"
      ]
    },
    {
      "cell_type": "code",
      "execution_count": null,
      "metadata": {
        "id": "DxCV-2O-NtDX",
        "outputId": "5c3318c2-fb00-4f1a-eac4-26df82414da3",
        "colab": {
          "base_uri": "https://localhost:8080/"
        }
      },
      "outputs": [
        {
          "output_type": "stream",
          "name": "stdout",
          "text": [
            "The sum of all values:\n"
          ]
        },
        {
          "output_type": "execute_result",
          "data": {
            "text/plain": [
              "325"
            ]
          },
          "metadata": {},
          "execution_count": 26
        }
      ],
      "source": [
        "print(\"The sum of all values:\")\n",
        "mat.sum()"
      ]
    },
    {
      "cell_type": "markdown",
      "metadata": {
        "id": "uzdVQrjZNtDX"
      },
      "source": [
        "#### Get the standard deviation of the values in mat"
      ]
    },
    {
      "cell_type": "code",
      "execution_count": null,
      "metadata": {
        "id": "Acnu4IlVNtDY",
        "outputId": "4767ca31-ccea-41f2-cc08-41029db20189",
        "colab": {
          "base_uri": "https://localhost:8080/"
        }
      },
      "outputs": [
        {
          "output_type": "stream",
          "name": "stdout",
          "text": [
            "The standard deviation:\n"
          ]
        },
        {
          "output_type": "execute_result",
          "data": {
            "text/plain": [
              "7.211102550927978"
            ]
          },
          "metadata": {},
          "execution_count": 24
        }
      ],
      "source": [
        "print(\"The standard deviation:\")\n",
        "mat.std()"
      ]
    },
    {
      "cell_type": "markdown",
      "metadata": {
        "id": "3vpTloSnNtDY"
      },
      "source": [
        "#### Get the sum of all the columns in mat"
      ]
    },
    {
      "cell_type": "code",
      "execution_count": null,
      "metadata": {
        "id": "e8CghOGvNtDY",
        "outputId": "f283b91c-7158-4c96-c4a4-4920973d5eae",
        "colab": {
          "base_uri": "https://localhost:8080/"
        }
      },
      "outputs": [
        {
          "output_type": "stream",
          "name": "stdout",
          "text": [
            "The sum of all columns\n"
          ]
        },
        {
          "output_type": "execute_result",
          "data": {
            "text/plain": [
              "array([55, 60, 65, 70, 75])"
            ]
          },
          "metadata": {},
          "execution_count": 25
        }
      ],
      "source": [
        "print(\"The sum of all columns\")\n",
        "mat.sum(axis=0)"
      ]
    },
    {
      "cell_type": "markdown",
      "metadata": {
        "collapsed": true,
        "id": "gOcmBer9NtDY"
      },
      "source": [
        "# Mak sure to save your note and submit it as pdf via Moodle"
      ]
    }
  ],
  "metadata": {
    "kernelspec": {
      "display_name": "Python 3",
      "language": "python",
      "name": "python3"
    },
    "language_info": {
      "codemirror_mode": {
        "name": "ipython",
        "version": 3
      },
      "file_extension": ".py",
      "mimetype": "text/x-python",
      "name": "python",
      "nbconvert_exporter": "python",
      "pygments_lexer": "ipython3",
      "version": "3.5.1"
    },
    "colab": {
      "provenance": [],
      "include_colab_link": true
    }
  },
  "nbformat": 4,
  "nbformat_minor": 0
}