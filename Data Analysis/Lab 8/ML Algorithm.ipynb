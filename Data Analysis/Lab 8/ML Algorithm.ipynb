{
 "cells": [
  {
   "cell_type": "code",
   "execution_count": 3,
   "metadata": {},
   "outputs": [
    {
     "name": "stdout",
     "output_type": "stream",
     "text": [
      "Head\n",
      "                 Model  Year  Kilometers Fuel_Type  Price\n",
      "0  Honda Accord 2.4 AT  2009      101867   Petrol    3890\n",
      "1  Honda Accord 2.4 AT  2009       97241   Petrol    7500\n",
      "2  Honda Accord 2.4 AT  2009       64533   Petrol    4500\n",
      "3  Honda Accord 2.4 AT  2009       63000   Petrol    2950\n",
      "4  Honda Accord 2.4 AT  2010      100000   Petrol    4000\n",
      "\n",
      "\n",
      "Tail\n",
      "                    Model  Year  Kilometers Fuel_Type  Price\n",
      "977  Honda WR-V i-VTEC VX  2019       28000   Petrol    8650\n",
      "978  Honda WR-V i-VTEC VX  2020       15000   Petrol    9250\n",
      "979  Honda WR-V i-VTEC VX  2021       30000   Petrol    9500\n",
      "980  Honda WR-V i-VTEC VX  2021       16748   Petrol    8140\n",
      "981  Honda WR-V i-VTEC VX  2022       10000   Petrol   10440\n"
     ]
    }
   ],
   "source": [
    "#Q1 part a\n",
    "import pandas as pd              \n",
    "import matplotlib.pyplot as plt  \n",
    "plt.rcParams[\"figure.figsize\"] = (10,10)\n",
    "import math\n",
    "\n",
    "from sklearn import preprocessing                     \n",
    "from sklearn.linear_model import LinearRegression     \n",
    "from sklearn.linear_model import LogisticRegression \n",
    "\n",
    "data = pd.read_csv(\"honda.csv\")\n",
    "print(\"Head\")\n",
    "print(data.head())               \n",
    "print(\"\\n\\nTail\")\n",
    "print(data.tail())      "
   ]
  },
  {
   "cell_type": "code",
   "execution_count": 4,
   "metadata": {},
   "outputs": [
    {
     "name": "stdout",
     "output_type": "stream",
     "text": [
      "Head\n",
      "   Model  Year  Kilometers  Fuel_Type  Price\n",
      "0      0  2009      101867          1   3890\n",
      "1      0  2009       97241          1   7500\n",
      "2      0  2009       64533          1   4500\n",
      "\n",
      "\n",
      "Tail\n",
      "     Model  Year  Kilometers  Fuel_Type  Price\n",
      "979     24  2021       30000          1   9500\n",
      "980     24  2021       16748          1   8140\n",
      "981     24  2022       10000          1  10440\n"
     ]
    }
   ],
   "source": [
    "\n",
    "from sklearn.preprocessing import LabelEncoder\n",
    "labelencoder = LabelEncoder()\n",
    "\n",
    "\n",
    "data['Model'] = labelencoder.fit_transform(data['Model'])\n",
    "data['Fuel_Type'] = labelencoder.fit_transform(data['Fuel_Type'])\n",
    "\n",
    "print(\"Head\")\n",
    "print(data.head(3))               \n",
    "print(\"\\n\\nTail\")\n",
    "print(data.tail(3))  "
   ]
  },
  {
   "cell_type": "code",
   "execution_count": 5,
   "metadata": {},
   "outputs": [],
   "source": [
    "array = data.values\n",
    "predictors = array[:,0:3] \n",
    "\n",
    "targets = array[:,4]  "
   ]
  },
  {
   "cell_type": "code",
   "execution_count": 6,
   "metadata": {},
   "outputs": [
    {
     "name": "stdout",
     "output_type": "stream",
     "text": [
      "Accuracy = 0.637\n"
     ]
    }
   ],
   "source": [
    "model = LinearRegression()\n",
    "\n",
    "model.fit(predictors, targets)\n",
    "\n",
    "accuracy = model.score(predictors,targets)\n",
    "accuracy = round(accuracy, 3)\n",
    "\n",
    "print(\"Accuracy =\", accuracy)"
   ]
  },
  {
   "cell_type": "code",
   "execution_count": 8,
   "metadata": {},
   "outputs": [
    {
     "name": "stdout",
     "output_type": "stream",
     "text": [
      "\n",
      "Give it a list with just 2 value rows in it\n",
      "We are expecting prices of 4,500 and 10,440 respectivly.\n",
      "Seen1   : [0, 2009, 64533]\n",
      "Result1 : 1309\n",
      "\n",
      "Seen2   : [24, 2022, 10000]\n",
      "Result2 : 11025\n"
     ]
    }
   ],
   "source": [
    "#Q1 part b\n",
    "print(\"\\nGive it a list with just 2 value rows in it\")\n",
    "print(\"We are expecting prices of 4,500 and 10,440 respectivly.\")\n",
    "\n",
    "row3 = [0, 2009, 64533]  # See the 3rd line of preprocessed data above.  \n",
    "row_last = [24, 2022, 10000]  # See the last line of preprocessed data above.  \n",
    "\n",
    "seen_data = [row3, row_last]  \n",
    "results = model.predict(seen_data) # The results are the last column, Price\n",
    "\n",
    "print(\"Seen1   :\", seen_data[0])\n",
    "print(\"Result1 :\", int(results[0]))\n",
    "print()\n",
    "\n",
    "print(\"Seen2   :\", seen_data[1])\n",
    "print(\"Result2 :\", int(results[1]))"
   ]
  },
  {
   "cell_type": "code",
   "execution_count": 9,
   "metadata": {},
   "outputs": [
    {
     "name": "stdout",
     "output_type": "stream",
     "text": [
      "Head\n",
      "   6  148  72  35    0  33.6  0.627  50  1\n",
      "0  1   85  66  29    0  26.6  0.351  31  0\n",
      "1  8  183  64   0    0  23.3  0.672  32  1\n",
      "2  1   89  66  23   94  28.1  0.167  21  0\n",
      "3  0  137  40  35  168  43.1  2.288  33  1\n",
      "4  5  116  74   0    0  25.6  0.201  30  0\n",
      "\n",
      "\n",
      "Tail\n",
      "      6  148  72  35    0  33.6  0.627  50  1\n",
      "762  10  101  76  48  180  32.9  0.171  63  0\n",
      "763   2  122  70  27    0  36.8  0.340  27  0\n",
      "764   5  121  72  23  112  26.2  0.245  30  0\n",
      "765   1  126  60   0    0  30.1  0.349  47  1\n",
      "766   1   93  70  31    0  30.4  0.315  23  0\n"
     ]
    }
   ],
   "source": [
    "#Q2 part a\n",
    "import pandas as pd              \n",
    "import matplotlib.pyplot as plt  \n",
    "plt.rcParams[\"figure.figsize\"] = (10,10)\n",
    "import math\n",
    "\n",
    "from sklearn import preprocessing                     \n",
    "from sklearn.linear_model import LinearRegression     \n",
    "from sklearn.linear_model import LogisticRegression \n",
    "\n",
    "data = pd.read_csv(\"pima-indians-diabetes-MP.csv\")\n",
    "print(\"Head\")\n",
    "print(data.head())               \n",
    "print(\"\\n\\nTail\")\n",
    "print(data.tail())      "
   ]
  },
  {
   "cell_type": "code",
   "execution_count": 10,
   "metadata": {},
   "outputs": [
    {
     "name": "stdout",
     "output_type": "stream",
     "text": [
      "Head\n",
      "   6  148  72  35   0  33.6  0.627  50  1\n",
      "0  1   85  66  29   0  26.6  0.351  31  0\n",
      "1  8  183  64   0   0  23.3  0.672  32  1\n",
      "2  1   89  66  23  94  28.1  0.167  21  0\n",
      "\n",
      "\n",
      "Tail\n",
      "     6  148  72  35    0  33.6  0.627  50  1\n",
      "764  5  121  72  23  112  26.2  0.245  30  0\n",
      "765  1  126  60   0    0  30.1  0.349  47  1\n",
      "766  1   93  70  31    0  30.4  0.315  23  0\n"
     ]
    }
   ],
   "source": [
    "\n",
    "from sklearn.preprocessing import LabelEncoder\n",
    "labelencoder = LabelEncoder()\n",
    "\n",
    "#data[''] = labelencoder.fit_transform(data[''])\n",
    "#data[''] = labelencoder.fit_transform(data[''])\n",
    "\n",
    "print(\"Head\")\n",
    "print(data.head(3))               \n",
    "print(\"\\n\\nTail\")\n",
    "print(data.tail(3))  "
   ]
  },
  {
   "cell_type": "code",
   "execution_count": 11,
   "metadata": {},
   "outputs": [],
   "source": [
    "array = data.values\n",
    "\n",
    "predictors = array[:,0:4]\n",
    "\n",
    "targets = array[:,4] "
   ]
  },
  {
   "cell_type": "code",
   "execution_count": 12,
   "metadata": {},
   "outputs": [
    {
     "name": "stdout",
     "output_type": "stream",
     "text": [
      "Accuracy = 0.294\n"
     ]
    }
   ],
   "source": [
    "model = LinearRegression()\n",
    "\n",
    "model.fit(predictors, targets)\n",
    "\n",
    "accuracy = model.score(predictors,targets)\n",
    "accuracy = round(accuracy, 3)\n",
    "\n",
    "print(\"Accuracy =\", accuracy)"
   ]
  },
  {
   "cell_type": "code",
   "execution_count": 18,
   "metadata": {},
   "outputs": [
    {
     "name": "stdout",
     "output_type": "stream",
     "text": [
      "Seen1   : [89, 66, 23, 94]\n",
      "Result1 : 31\n",
      "\n",
      "Seen2   : [93, 70, 31, 0]\n",
      "Result2 : -261\n"
     ]
    }
   ],
   "source": [
    "#Q2 part b\n",
    "\n",
    "row3 = [89, 66, 23, 94]    \n",
    "row_last = [93, 70, 31, 0]  \n",
    "\n",
    "seen_data = [row3, row_last]  \n",
    "results = model.predict(seen_data) \n",
    "\n",
    "print(\"Seen1   :\", seen_data[0])\n",
    "print(\"Result1 :\", int(results[0]))\n",
    "print()\n",
    "\n",
    "print(\"Seen2   :\", seen_data[1])\n",
    "print(\"Result2 :\", int(results[1]))"
   ]
  },
  {
   "cell_type": "code",
   "execution_count": 19,
   "metadata": {},
   "outputs": [
    {
     "name": "stdout",
     "output_type": "stream",
     "text": [
      "\n",
      "Give it a list with absolutly unseen data in it\n",
      "Unseen1 : [8, 125, 96, 0]\n",
      "Result1 : 5\n",
      "\n",
      "Unseen2 : [4, 110, 92, 0]\n",
      "Result2 : 0\n"
     ]
    }
   ],
   "source": [
    "#Q2 part c\n",
    "print(\"\\nGive it a list with absolutly unseen data in it\")\n",
    "\n",
    "row_unseen1 =[8, 125, 96, 0]\n",
    "\n",
    "row_unseen2 =[4, 110, 92, 0]\n",
    "\n",
    "unseen_data = [row_unseen1, row_unseen2]\n",
    "\n",
    "results = model.predict(unseen_data)\n",
    "\n",
    "print(\"Unseen1 :\", unseen_data[0])\n",
    "print(\"Result1 :\", int(results[0]))\n",
    "print()\n",
    "\n",
    "print(\"Unseen2 :\", unseen_data[1])\n",
    "print(\"Result2 :\", int(results[1]))"
   ]
  },
  {
   "cell_type": "code",
   "execution_count": null,
   "metadata": {},
   "outputs": [],
   "source": [
    "#Q2 part d \n",
    "# having a value of 0 in the table row will change the result"
   ]
  }
 ],
 "metadata": {
  "kernelspec": {
   "display_name": "Python 3 (ipykernel)",
   "language": "python",
   "name": "python3"
  },
  "language_info": {
   "codemirror_mode": {
    "name": "python",
    "version": 3
   },
   "file_extension": ".py",
   "mimetype": "text/x-python",
   "name": "python",
   "nbconvert_exporter": "python",
   "pygments_lexer": "ipython3",
   "version": "3.8"
  }
 },
 "nbformat": 4,
 "nbformat_minor": 4
}
