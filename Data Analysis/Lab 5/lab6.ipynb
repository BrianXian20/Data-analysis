{
 "cells": [
  {
   "cell_type": "code",
   "execution_count": null,
   "id": "45153bcf-e855-4262-a8b1-0ea1ef15f0e3",
   "metadata": {},
   "outputs": [],
   "source": [
    "import pandas as pd\n",
    "import numpy as np\n",
    "import matplotlib.pyplot as plt\n",
    "\n",
    "# Use filename and col_names to make the code more readable, shows what the strings are being used for.\n",
    "filename = \"pandas lab pima-indians-diabetes.csv\"\n",
    "col_names = [\"preg\", \"plas\", \"pres\", \"skin\", \"test\", \"mass\", \"pedi\", \"age\", \"class\"]\n",
    "data = pd.read_csv(filename, names = col_names)"
   ]
  },
  {
   "cell_type": "code",
   "execution_count": null,
   "id": "29d450a0-8660-4f65-97c1-0c7549b7d5ab",
   "metadata": {},
   "outputs": [],
   "source": [
    "print(data)"
   ]
  },
  {
   "cell_type": "code",
   "execution_count": null,
   "id": "0826f993-0a2e-4a02-9591-7379c6125b6d",
   "metadata": {},
   "outputs": [],
   "source": [
    "filename = \"pandas lab pima-indians-diabetes-with-headers.csv\"\n",
    "data.to_csv(filename, header=True, index=False)"
   ]
  },
  {
   "cell_type": "code",
   "execution_count": null,
   "id": "bf863b68-2896-43f1-9f5e-55410f1d0146",
   "metadata": {},
   "outputs": [],
   "source": [
    "data.head()"
   ]
  },
  {
   "cell_type": "code",
   "execution_count": null,
   "id": "6e681458-ff05-4b23-8a88-31fa1c2c4172",
   "metadata": {},
   "outputs": [],
   "source": [
    "data.tail(3)"
   ]
  },
  {
   "cell_type": "code",
   "execution_count": null,
   "id": "392d7ea5-0e0c-43f2-bed4-7a73b36151b0",
   "metadata": {},
   "outputs": [],
   "source": [
    "data.index # List the index start, stop and increment"
   ]
  },
  {
   "cell_type": "code",
   "execution_count": null,
   "id": "0a132dd3-bd9e-4cdc-b83a-e00ef19c5ab7",
   "metadata": {},
   "outputs": [],
   "source": [
    "data.columns # Print the column headings"
   ]
  },
  {
   "cell_type": "code",
   "execution_count": null,
   "id": "da2dfe16-d24c-4211-b250-6c3bdd3a57ab",
   "metadata": {},
   "outputs": [],
   "source": [
    "data[\"age\"]  # Version 1"
   ]
  },
  {
   "cell_type": "code",
   "execution_count": null,
   "id": "2bd1bbde-d6eb-4076-bd03-96207883a1e9",
   "metadata": {},
   "outputs": [],
   "source": [
    "data.age # Version 2"
   ]
  },
  {
   "cell_type": "code",
   "execution_count": null,
   "id": "825f7083-899c-48c2-a325-d5c3e53dc781",
   "metadata": {},
   "outputs": [],
   "source": [
    "data.loc[:, [\"age\"]] # Version 3"
   ]
  },
  {
   "cell_type": "code",
   "execution_count": null,
   "id": "2dadc17c-6e0e-4c76-88d2-c66de0938032",
   "metadata": {},
   "outputs": [],
   "source": [
    "data.loc[0:5, [\"preg\"]]"
   ]
  },
  {
   "cell_type": "code",
   "execution_count": null,
   "id": "f686e346-7b6f-4ac4-86fc-c458fa9e0ac0",
   "metadata": {},
   "outputs": [],
   "source": [
    "data.loc[2:8, [\"age\", \"mass\", \"pres\"]]"
   ]
  },
  {
   "cell_type": "code",
   "execution_count": null,
   "id": "c5475fb3-df66-4371-ae7b-c49284814008",
   "metadata": {},
   "outputs": [],
   "source": []
  },
  {
   "cell_type": "code",
   "execution_count": null,
   "id": "978b127f-9993-4482-bcf1-58e295afba18",
   "metadata": {},
   "outputs": [],
   "source": [
    "data.hist(figsize=(10,10))\n",
    "plt.show()"
   ]
  },
  {
   "cell_type": "code",
   "execution_count": null,
   "id": "f6104ef0-148c-4bb0-97ec-f916d4d9c4d2",
   "metadata": {},
   "outputs": [],
   "source": [
    "plt.rc('font', size=30)\n",
    "data.hist(figsize=(20,20))\n",
    "plt.savefig(\"pandas lab pima.jpg\")\n",
    "plt.show()"
   ]
  },
  {
   "cell_type": "code",
   "execution_count": null,
   "id": "711bc11c-2ef2-45e1-8abf-a6ac8e73aa6b",
   "metadata": {},
   "outputs": [],
   "source": [
    "plt.rc('font', size=10)\n",
    "data.plot(kind = 'density', subplots = True, layout = (3, 3), sharex = False, figsize=(15,15))\n",
    "plt.savefig(\"pandas lab pima indians density.jpg\")\n",
    "plt.show()"
   ]
  },
  {
   "cell_type": "code",
   "execution_count": null,
   "id": "535da446-c67a-4d5a-b794-ed08f489e842",
   "metadata": {},
   "outputs": [],
   "source": [
    "data.sort_values(by = [\"preg\"])"
   ]
  },
  {
   "cell_type": "code",
   "execution_count": null,
   "id": "175330be-a109-43c6-b2c3-0ec27920d2e2",
   "metadata": {},
   "outputs": [],
   "source": [
    "data.sort_values(by = [\"age\"], ascending = False)"
   ]
  },
  {
   "cell_type": "code",
   "execution_count": null,
   "id": "eebf3998-8405-4239-a162-3e7fc61dc5b3",
   "metadata": {},
   "outputs": [],
   "source": [
    "print(data.mean(axis=0))"
   ]
  },
  {
   "cell_type": "code",
   "execution_count": null,
   "id": "075434f1-b472-441e-bb26-e04cc669719a",
   "metadata": {},
   "outputs": [],
   "source": [
    "print(data.median(axis=0))"
   ]
  },
  {
   "cell_type": "code",
   "execution_count": null,
   "id": "15b5bc6e-15f0-40ed-84bb-849fdc839baa",
   "metadata": {},
   "outputs": [],
   "source": [
    "print(data.max(axis=0))"
   ]
  },
  {
   "cell_type": "code",
   "execution_count": null,
   "id": "e51e658f-f910-486b-8187-82f02aac5294",
   "metadata": {},
   "outputs": [],
   "source": [
    "print(data.min(axis=0))"
   ]
  },
  {
   "cell_type": "code",
   "execution_count": null,
   "id": "b3bda8b0-d2ea-464a-b3b8-f4b0233a9dc8",
   "metadata": {},
   "outputs": [],
   "source": [
    "print(data.preg.mean())\n",
    "print(data.preg.min())\n",
    "print(data.preg.max())\n",
    "print(data.preg.median())"
   ]
  },
  {
   "cell_type": "code",
   "execution_count": null,
   "id": "55dca8ab-28c8-4d46-ab5f-be8ed830ab37",
   "metadata": {},
   "outputs": [],
   "source": [
    "data.describe()"
   ]
  },
  {
   "cell_type": "code",
   "execution_count": null,
   "id": "a024c39a-e30c-468d-a022-f4145b05fa65",
   "metadata": {},
   "outputs": [],
   "source": [
    "data = pd.read_csv(filename, names = col_names)\n",
    "# Set the 'pres' column to be the existing column with the zeros replaced (via numpy)\n",
    "data['pres'] = data['pres'].replace(0, 'NaN')\n",
    "# OR Use numpy.nan (Not a Number)\n",
    "#data['pres'] = data['pres'].replace(0, np.nan)\n",
    "print(data)"
   ]
  },
  {
   "cell_type": "code",
   "execution_count": null,
   "id": "88491d0c-fe32-4a97-9abb-2ed907f88a28",
   "metadata": {},
   "outputs": [],
   "source": []
  }
 ],
 "metadata": {
  "kernelspec": {
   "display_name": "Python 3 (ipykernel)",
   "language": "python",
   "name": "python3"
  },
  "language_info": {
   "name": ""
  }
 },
 "nbformat": 4,
 "nbformat_minor": 5
}
