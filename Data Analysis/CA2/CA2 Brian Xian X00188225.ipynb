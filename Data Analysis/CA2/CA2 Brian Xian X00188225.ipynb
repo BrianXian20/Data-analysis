{
 "cells": [
  {
   "cell_type": "code",
   "execution_count": null,
   "id": "5d785544-3480-4e1c-8017-526f0bcaafd9",
   "metadata": {},
   "outputs": [],
   "source": []
  }
 ],
 "metadata": {
  "kernelspec": {
   "display_name": "Python 3 (ipykernel)",
   "language": "python",
   "name": "python3"
  },
  "language_info": {
   "name": ""
  }
 },
 "nbformat": 4,
 "nbformat_minor": 5
}
