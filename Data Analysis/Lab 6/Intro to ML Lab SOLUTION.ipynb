{
 "cells": [
  {
   "cell_type": "markdown",
   "metadata": {},
   "source": [
    "# Intro to ML Lab"
   ]
  },
  {
   "cell_type": "markdown",
   "metadata": {},
   "source": [
    "# 1 Missing Data and Outliers"
   ]
  },
  {
   "cell_type": "markdown",
   "metadata": {},
   "source": [
    "## 1.1 Opening Dataset"
   ]
  },
  {
   "cell_type": "code",
   "execution_count": 2,
   "metadata": {},
   "outputs": [],
   "source": [
    "import pandas as pd\n",
    "import numpy as np\n",
    "import matplotlib.pyplot as plt"
   ]
  },
  {
   "cell_type": "code",
   "execution_count": 15,
   "metadata": {},
   "outputs": [
    {
     "name": "stdout",
     "output_type": "stream",
     "text": [
      "     Outlook  Temp  Humidity  Windy Play\n",
      "0      sunny    85        85  False   no\n",
      "1      sunny    80        90   True   no\n",
      "2   overcast    83        86  False  yes\n",
      "3      rainy    70        96  False  yes\n",
      "4      rainy    68        80  False  yes\n",
      "5      rainy    65        70   True   no\n",
      "6   overcast    64        65   True  yes\n",
      "7      sunny    72        95  False   no\n",
      "8      sunny    69        70  False  yes\n",
      "9      rainy    75        80  False  yes\n",
      "10     sunny    75        70   True  yes\n",
      "11  overcast    72        90   True  yes\n",
      "12  overcast    81        75  False  yes\n",
      "13     rainy    71        91   True   no\n"
     ]
    }
   ],
   "source": [
    "\n",
    "fileName = 'weather-ML.csv'\n",
    "colNames = [\n",
    "'Outlook',\n",
    "'Temp',\n",
    "'Humidity',\n",
    "'Windy',\n",
    "'Play'\n",
    "]\n",
    "data = pd.read_csv(fileName, names=colNames)\n",
    "print(data)"
   ]
  },
  {
   "cell_type": "code",
   "execution_count": 16,
   "metadata": {},
   "outputs": [
    {
     "name": "stdout",
     "output_type": "stream",
     "text": [
      "    Outlook  Temp  Humidity  Windy  Play\n",
      "0         2    11         4      0     0\n",
      "1         2     8         6      1     0\n",
      "2         0    10         5      0     1\n",
      "3         1     4         9      0     1\n",
      "4         1     2         3      0     1\n",
      "5         1     1         1      1     0\n",
      "6         0     0         0      1     1\n",
      "7         2     6         8      0     0\n",
      "8         2     3         1      0     1\n",
      "9         1     7         3      0     1\n",
      "10        2     7         1      1     1\n",
      "11        0     6         6      1     1\n",
      "12        0     9         2      0     1\n",
      "13        1     5         7      1     0\n"
     ]
    }
   ],
   "source": [
    "from sklearn import preprocessing\n",
    "data = data.apply(preprocessing.LabelEncoder().fit_transform)\n",
    "print(data)"
   ]
  },
  {
   "cell_type": "markdown",
   "metadata": {},
   "source": [
    "## 1.2 Describe the data"
   ]
  },
  {
   "cell_type": "code",
   "execution_count": 17,
   "metadata": {},
   "outputs": [
    {
     "name": "stdout",
     "output_type": "stream",
     "text": [
      "         Outlook       Temp   Humidity      Windy       Play\n",
      "count  14.000000  14.000000  14.000000  14.000000  14.000000\n",
      "mean    1.071429   5.642857   4.000000   0.428571   0.642857\n",
      "std     0.828742   3.342204   2.882307   0.513553   0.497245\n",
      "min     0.000000   0.000000   0.000000   0.000000   0.000000\n",
      "25%     0.250000   3.250000   1.250000   0.000000   0.000000\n",
      "50%     1.000000   6.000000   3.500000   0.000000   1.000000\n",
      "75%     2.000000   7.750000   6.000000   1.000000   1.000000\n",
      "max     2.000000  11.000000   9.000000   1.000000   1.000000\n"
     ]
    }
   ],
   "source": [
    "print(data.describe())\n",
    "#print(data.dtypes)"
   ]
  },
  {
   "cell_type": "markdown",
   "metadata": {},
   "source": [
    "### 1.3 Missing"
   ]
  },
  {
   "cell_type": "code",
   "execution_count": 10,
   "metadata": {},
   "outputs": [
    {
     "name": "stdout",
     "output_type": "stream",
     "text": [
      "Count the elements, per column, that are zeros\n",
      "Outlook     4\n",
      "Temp        1\n",
      "Humidity    1\n",
      "Windy       8\n",
      "Play        5\n",
      "dtype: int64\n",
      "\n",
      "Count the elements, per column, that are less than zero\n",
      "Outlook     0\n",
      "Temp        0\n",
      "Humidity    0\n",
      "Windy       0\n",
      "Play        0\n",
      "dtype: int64\n",
      "\n",
      "Show the Standard deviation, per column\n",
      "Outlook     0.828742\n",
      "Temp        3.342204\n",
      "Humidity    2.882307\n",
      "Windy       0.513553\n",
      "Play        0.497245\n",
      "dtype: float64\n",
      "\n",
      "Show the average, per column\n",
      "Outlook     1.071429\n",
      "Temp        5.642857\n",
      "Humidity    4.000000\n",
      "Windy       0.428571\n",
      "Play        0.642857\n",
      "dtype: float64\n",
      "Count the elements in the Temp column that are zeros\n",
      "1\n",
      "\n",
      "Count the elements in the Temp column that are below zero\n",
      "0\n",
      "\n",
      "Show the average of the Temp column\n",
      "5.642857142857143\n"
     ]
    }
   ],
   "source": [
    "print(\"Count the elements, per column, that are zeros\")\n",
    "print((data == 0).sum())\n",
    "print()\n",
    "print(\"Count the elements, per column, that are less than zero\")\n",
    "print((data < 0).sum())\n",
    "print()\n",
    "print(\"Show the Standard deviation, per column\")\n",
    "print(data.std())\n",
    "print()\n",
    "print(\"Show the average, per column\")\n",
    "print(data.mean())\n",
    "print(\"Count the elements in the Temp column that are zeros\")\n",
    "print((data['Temp'] == 0).sum())\n",
    "print()\n",
    "print(\"Count the elements in the Temp column that are below zero\")\n",
    "print((data['Temp'] < 0).sum())\n",
    "print()\n",
    "print(\"Show the average of the Temp column\")\n",
    "print(data['Temp'].mean())"
   ]
  },
  {
   "cell_type": "markdown",
   "metadata": {},
   "source": [
    "## 1.4 Outliers"
   ]
  },
  {
   "cell_type": "code",
   "execution_count": 11,
   "metadata": {},
   "outputs": [
    {
     "name": "stdout",
     "output_type": "stream",
     "text": [
      "Outlook\n",
      "Temp\n",
      "Humidity\n",
      "Windy\n",
      "Play\n",
      "\n",
      "\n",
      "\n",
      "Column/Attribue: OUTLOOK\n",
      "--------------------------------\n",
      "Summary:\n",
      "Skew is -0.14480.\n",
      "N outside of two STD:\t 0 \t( 0.0 %)\n",
      "N outside of three STD:\t 0 \t( 0.0 %)\n"
     ]
    },
    {
     "data": {
      "image/png": "[encoded data removed]",
      "text/plain": [
       "<Figure size 504x504 with 1 Axes>"
      ]
     },
     "metadata": {
      "needs_background": "light"
     },
     "output_type": "display_data"
    },
    {
     "name": "stdout",
     "output_type": "stream",
     "text": [
      "Column/Attribue: TEMP\n",
      "--------------------------------\n",
      "Summary:\n",
      "Skew is -0.14129.\n",
      "N outside of two STD:\t 0 \t( 0.0 %)\n",
      "N outside of three STD:\t 0 \t( 0.0 %)\n"
     ]
    },
    {
     "data": {
      "image/png": "[encoded data removed]",
      "text/plain": [
       "<Figure size 504x504 with 1 Axes>"
      ]
     },
     "metadata": {
      "needs_background": "light"
     },
     "output_type": "display_data"
    },
    {
     "name": "stdout",
     "output_type": "stream",
     "text": [
      "Column/Attribue: HUMIDITY\n",
      "--------------------------------\n",
      "Summary:\n",
      "Skew is 0.29233.\n",
      "N outside of two STD:\t 0 \t( 0.0 %)\n",
      "N outside of three STD:\t 0 \t( 0.0 %)\n"
     ]
    },
    {
     "data": {
      "image/png": "[encoded data removed]",
      "text/plain": [
       "<Figure size 504x504 with 1 Axes>"
      ]
     },
     "metadata": {
      "needs_background": "light"
     },
     "output_type": "display_data"
    },
    {
     "name": "stdout",
     "output_type": "stream",
     "text": [
      "Column/Attribue: WINDY\n",
      "--------------------------------\n",
      "Summary:\n",
      "Skew is 0.32454.\n",
      "N outside of two STD:\t 0 \t( 0.0 %)\n",
      "N outside of three STD:\t 0 \t( 0.0 %)\n"
     ]
    },
    {
     "data": {
      "image/png": "[encoded data removed]",
      "text/plain": [
       "<Figure size 504x504 with 1 Axes>"
      ]
     },
     "metadata": {
      "needs_background": "light"
     },
     "output_type": "display_data"
    },
    {
     "name": "stdout",
     "output_type": "stream",
     "text": [
      "Column/Attribue: PLAY\n",
      "--------------------------------\n",
      "Summary:\n",
      "Skew is -0.67036.\n",
      "N outside of two STD:\t 0 \t( 0.0 %)\n",
      "N outside of three STD:\t 0 \t( 0.0 %)\n"
     ]
    },
    {
     "data": {
      "image/png": "[encoded data removed]",
      "text/plain": [
       "<Figure size 504x504 with 1 Axes>"
      ]
     },
     "metadata": {
      "needs_background": "light"
     },
     "output_type": "display_data"
    }
   ],
   "source": [
    "\"\"\"\n",
    "The following plotAttribute() function does not have to be learned, but you must be able to copy/paste it and use it in a CA.\n",
    "Know what it does, not haow it does it.\n",
    "\"\"\"\n",
    "def plotAttribute(featureName):\n",
    "    oneSTD = data[featureName].std()\n",
    "    twoSTD = oneSTD * 2\n",
    "    threeSTD = oneSTD * 3\n",
    "    meanValue = data[featureName].mean()\n",
    "    print(\"Column/Attribue:\", featureName.upper())\n",
    "    print(\"--------------------------------\")\n",
    "    print(\"Summary:\")\n",
    "    print(f\"Skew is {data[featureName].skew():7.5f}.\")\n",
    "    instances = data.shape[0]\n",
    "    outsideTwo = ((data[featureName] < (meanValue - twoSTD)).sum() + (data[featureName] > (meanValue + twoSTD)).sum())\n",
    "    outsideThree = ((data[featureName] < (meanValue - threeSTD)).sum() +(data[featureName] > (meanValue + threeSTD)).sum())\n",
    "    print(\"N outside of two STD:\\t\", outsideTwo, \"\\t(\", round((outsideTwo/instances) *100, 2),\"%)\")\n",
    "    print(\"N outside of three STD:\\t\", outsideThree, \"\\t(\", round((outsideThree/instances) * 100, 2),\"%)\")\n",
    "    plt.axvline(x=(meanValue - oneSTD), label='One STD', c=\"g\")\n",
    "    plt.axvline(x=(meanValue + oneSTD), c=\"g\")\n",
    "    plt.axvline(x=(meanValue - twoSTD), label='Two STD', c=\"y\")\n",
    "    plt.axvline(x=(meanValue + twoSTD), c=\"y\")\n",
    "    plt.axvline(x=(meanValue - threeSTD), label='Three STD', c=\"r\")\n",
    "    plt.axvline(x=(meanValue + threeSTD), c=\"r\")\n",
    "    data[featureName].hist(figsize=(7,7))\n",
    "    plt.legend()\n",
    "    plt.show()\n",
    "\n",
    "\n",
    "for colName in colNames:\n",
    "    print(colName)\n",
    "print(\"\\n\\n\")\n",
    "\n",
    "for colName in colNames:\n",
    "    plotAttribute(colName)"
   ]
  },
  {
   "cell_type": "code",
   "execution_count": null,
   "metadata": {},
   "outputs": [],
   "source": []
  }
 ],
 "metadata": {
  "kernelspec": {
   "display_name": "Python 3 (ipykernel)",
   "language": "python",
   "name": "python3"
  },
  "language_info": {
   "codemirror_mode": {
    "name": "ipython",
    "version": 3
   },
   "file_extension": ".py",
   "mimetype": "text/x-python",
   "name": "python",
   "nbconvert_exporter": "python",
   "pygments_lexer": "ipython3",
   "version": "3.9.7"
  }
 },
 "nbformat": 4,
 "nbformat_minor": 2
}
