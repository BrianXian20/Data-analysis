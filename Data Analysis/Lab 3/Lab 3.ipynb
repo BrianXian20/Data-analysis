{
 "cells": [
  {
   "cell_type": "code",
   "execution_count": null,
   "id": "92787eff-e708-4812-94c2-1cc77e6fff4d",
   "metadata": {},
   "outputs": [],
   "source": [
    "import csv\n",
    "\n",
    "my_file = open(\"covid.csv\", \"r\")\n",
    "# Create a CSV Reader object for my_file\n",
    "csv_reader = csv.reader(my_file)\n",
    "\n",
    "# Use the list() function to return the data in the CSV reader as a 2D list\n",
    "days = list(csv_reader)\n",
    "\n",
    "# 'days' is a 2D list, including the header, see below.\n",
    "print(days)\n",
    "my_file.close()"
   ]
  },
  {
   "cell_type": "code",
   "execution_count": null,
   "id": "a183011b-9756-4b1c-97d8-8f77d769f3da",
   "metadata": {},
   "outputs": [],
   "source": [
    "for day in days:  # For each day/row/line....\n",
    "    for element in day:  # For each attribute of the line\n",
    "        print(element, end=\"\\t\")\n",
    "    print()"
   ]
  },
  {
   "cell_type": "code",
   "execution_count": null,
   "id": "9d2414d5-5075-477f-92b0-fe1aeceafe6f",
   "metadata": {},
   "outputs": [],
   "source": [
    "# Iterate over all the lines/rows/days\n",
    "for day in days[1:]:\n",
    "    day[2] = int(day[2]) # Cast the 3rd column (new cases) from string to integer\n",
    "    day[3] = int(day[3]) # Cast the 4rd column (new deaths) from string to integer\n",
    "    \n",
    "print(days)\n",
    "# Notice that the numeric values are not bounded by quotes any more."
   ]
  },
  {
   "cell_type": "code",
   "execution_count": null,
   "id": "19275387-d052-4252-b8dc-3319d0d88310",
   "metadata": {},
   "outputs": [],
   "source": [
    "# Create a new empty list\n",
    "days2 = []\n",
    "\n",
    "old_list_len = len(days)\n",
    "print(\"The list length, INcluding the header, is\", old_list_len)\n",
    "# Iterate over the lines, but skip the 1st one, thje headings row \n",
    "for day in days[1:]:\n",
    "    if day[3] != 0:  # If the 'New_Deaths' column is not zero, we want to add to the new list\n",
    "        days2.append(day)\n",
    "    else:            # Else if it is zero, don't add to the new list\n",
    "        print(day)\n",
    "new_list_len = len(days2)\n",
    "print(\"The new list length, EXcluding the header, is\", new_list_len)\n",
    "print()\n",
    "   \n",
    "# Now print the new list\n",
    "for day in days2:\n",
    "    for element in day:\n",
    "        print(element, end=\"\\t\")\n",
    "    print()"
   ]
  },
  {
   "cell_type": "code",
   "execution_count": null,
   "id": "dbc7f996-3fd3-4653-b788-aee95c3afda5",
   "metadata": {},
   "outputs": [],
   "source": [
    "sum_new_cases = 0\n",
    "num_days = 0\n",
    "for day in days2:\n",
    "    if day[2] > 0:\n",
    "        sum_new_cases += day[2]\n",
    "        num_days += 1\n",
    "avg = sum_new_cases / num_days\n",
    "avg = int(round(avg, 0))\n",
    "print(\"The average number of new cases per day is:\", avg)"
   ]
  },
  {
   "cell_type": "code",
   "execution_count": null,
   "id": "0662289b-a41e-48a1-9d6a-c1a6a6c9c541",
   "metadata": {},
   "outputs": [],
   "source": [
    "for day in days2:\n",
    "    if day[2] == 0:\n",
    "        day[2] = avg\n",
    "\n",
    "for day in days2:\n",
    "    for element in day:\n",
    "        print(element, end=\"\\t\")\n",
    "    print()"
   ]
  },
  {
   "cell_type": "code",
   "execution_count": null,
   "id": "7c11a1ab-bbc6-4226-9196-79ce8cf8be08",
   "metadata": {},
   "outputs": [],
   "source": [
    "# Create an empty list, this will become a 1D list comprising of the 'New_Cases' column\n",
    "new_cases = []\n",
    "for day in days2:  # Iterate over all the rows in the list\n",
    "    new_cases.append(day[2])  # For each row, append the 'New_Cases' value to the new 1D list\n",
    "print(new_cases)  # Print the 1D list of new cases."
   ]
  },
  {
   "cell_type": "code",
   "execution_count": null,
   "id": "cc9be2b2-3667-4127-9f60-8bd09ee337de",
   "metadata": {},
   "outputs": [],
   "source": [
    "# Do the same thing, using List Comprehension\n",
    "new_cases = [day[2] for day in days2]\n",
    "print(new_cases)"
   ]
  },
  {
   "cell_type": "code",
   "execution_count": null,
   "id": "99e720d1-a74a-4b78-b575-4c154b38ba8d",
   "metadata": {},
   "outputs": [],
   "source": [
    "# Get the min and max of new cases\n",
    "minc = min(new_cases)\n",
    "maxc = max(new_cases)\n",
    "print(\"The min new cases is\", minc, \"and the max new cases is\", maxc, \".\")"
   ]
  },
  {
   "cell_type": "code",
   "execution_count": null,
   "id": "3f03055c-b42e-41bf-ac20-3eac6ded3f78",
   "metadata": {},
   "outputs": [],
   "source": [
    "# Get the index of both the min and max values.\n",
    "index_min  = new_cases.index(minc)\n",
    "index_max  = new_cases.index(maxc)\n",
    "\n",
    "# Because the new_cases was built in the same order as the rows in main 'days' list, the index of boths lists is the same.\n",
    "# For example, the first entry in the days list corresponds to the first entry in the new_cases list.\n",
    "# The second entry in the days list corresponds to the second entry in the new_cases list.\n",
    "# ...and so on.\n",
    "# We can, therefore, use the index of the new_cases list to identify the corresponding entry in the days list.\n",
    "# We can then select the date (the first column) of this corresponding row.\n",
    "print(\"The date for the minimum new cases of\", minc, \"is\", days2[index_min][0])\n",
    "print(\"The date for the maximum new cases of\", maxc, \"is\", days2[index_max][0])"
   ]
  },
  {
   "cell_type": "code",
   "execution_count": null,
   "id": "03de748b-b49a-49fe-ad37-e494daabe9f9",
   "metadata": {},
   "outputs": [],
   "source": [
    "# Like the new_cases 1D list, create a new_deaths list\n",
    "new_deaths = []\n",
    "\n",
    "# Poipulate it it with the new_deaths column of the new list, the one without the zero deaths rows.\n",
    "for day in days2:\n",
    "    new_deaths.append(day[3])\n",
    "print(new_deaths)\n",
    "\n",
    "# Repeat using list comprehensions\n",
    "new_deaths = [day[3] for day in days2]\n",
    "print(new_deaths)\n",
    "\n",
    "# Get the min and max new_deaths\n",
    "mind = min(new_deaths)\n",
    "maxd = max(new_deaths)\n",
    "print(\"The min new deaths is\", mind, \"and the max new deaths is\", maxd)\n",
    "\n",
    "# Get the indes of the min and max values.\n",
    "index_min  = new_deaths.index(mind)\n",
    "index_max  = new_deaths.index(maxd)\n",
    "\n",
    "# Use this index to locate the coprresponding row in the 2D list and a zero in the 2nd dimension to select the date column for that row.\n",
    "print(\"The date for the minimum new deaths of\", mind, \"is\", days2[index_min][0])\n",
    "print(\"The date for the maximum new deaths of\", maxd, \"is\", days2[index_max][0])"
   ]
  },
  {
   "cell_type": "code",
   "execution_count": null,
   "id": "74762cef-9170-450d-9dc2-6a1f994c8e55",
   "metadata": {},
   "outputs": [],
   "source": []
  },
  {
   "cell_type": "code",
   "execution_count": null,
   "id": "f3faab28-3a27-40ee-a5c4-3f6434f955d8",
   "metadata": {},
   "outputs": [],
   "source": []
  }
 ],
 "metadata": {
  "kernelspec": {
   "display_name": "Python 3 (ipykernel)",
   "language": "python",
   "name": "python3"
  },
  "language_info": {
   "name": ""
  }
 },
 "nbformat": 4,
 "nbformat_minor": 5
}
