{
 "cells": [
  {
   "cell_type": "markdown",
   "id": "a4e73020",
   "metadata": {},
   "source": [
    "# Data Analysis Lab 1 SOLUTION"
   ]
  },
  {
   "cell_type": "markdown",
   "id": "df28bd7e",
   "metadata": {},
   "source": [
    "## Q 1"
   ]
  },
  {
   "cell_type": "code",
   "execution_count": 9,
   "id": "17cdcde0",
   "metadata": {},
   "outputs": [
    {
     "name": "stdout",
     "output_type": "stream",
     "text": [
      "My first Python program\n",
      "10\n",
      "[2, 4, 6, 8, 10, 12, 14, 16]\n",
      "The average of the list is 9.\n",
      "The median of the list is 9.0.\n",
      "The mode of the list is 2.\n"
     ]
    }
   ],
   "source": [
    "import statistics as st\n",
    "\n",
    "print(\"My first Python program\")\n",
    "\n",
    "int1 = 0\n",
    "int2 = 10\n",
    "int3 = int1 + int2\n",
    "print(int3)\n",
    "\n",
    "my_list = [2, 4, 6, 8, 10, 12, 14, 16]\n",
    "print(my_list)\n",
    "\n",
    "# Get the mean (average), median and mode of 'my_list'\n",
    "# Hint: The import above will help with the calculations.\n",
    "avg = st.mean(my_list)\n",
    "median = st.median(my_list)\n",
    "mode = st.mode(my_list)\n",
    "\n",
    "print(f\"The average of the list is {avg}.\")\n",
    "print(f\"The median of the list is {median}.\")\n",
    "print(f\"The mode of the list is {mode}.\")"
   ]
  },
  {
   "cell_type": "markdown",
   "id": "660049a5",
   "metadata": {},
   "source": [
    "## Q2 d"
   ]
  },
  {
   "cell_type": "code",
   "execution_count": 10,
   "id": "01018ba8",
   "metadata": {},
   "outputs": [
    {
     "name": "stdout",
     "output_type": "stream",
     "text": [
      "[2.99, 3.99, 5.99, 6.99, 8.99, 1.99, 2.99, 3.99, 1.99, 2.99, 5.99, 1.99, 2.99, 8.99, 0.99, 2.99, 1.99, 6.99, 2.99, 1.99, 6.99, 4.99, 1.99, 1.99, 2.99, 3.99, 5.99, 2.99]\n",
      "The average is  4.03.\n",
      "The median is  2.99.\n",
      "The mode is  2.99.\n",
      "The standard deviation is  2.24.\n"
     ]
    }
   ],
   "source": [
    "import statistics as st\n",
    "my_list = [2.99, 3.99, 5.99, 6.99, 8.99, 1.99, 2.99, 3.99, 1.99, 2.99, 5.99, 1.99, 2.99, 8.99, 0.99, 2.99, 1.99, 6.99, 2.99, 1.99, 6.99, 4.99, 1.99, 1.99, 2.99, 3.99, 5.99, 2.99]\n",
    "print(my_list)\n",
    "\n",
    "# Average\n",
    "avg = st.mean(my_list)\n",
    "print(f\"The average is {avg:5.2f}.\")\n",
    "\n",
    "# Median\n",
    "median = st.median(my_list)\n",
    "print(f\"The median is {median:5.2f}.\")\n",
    "\n",
    "# Mode\n",
    "mode = st.mode(my_list)\n",
    "print(f\"The mode is {mode:5.2f}.\")\n",
    "\n",
    "# Standard Deviation (assume sample standard deviation)\n",
    "stdev = st.stdev(my_list)\n",
    "print(f\"The standard deviation is {stdev:5.2f}.\")"
   ]
  },
  {
   "cell_type": "markdown",
   "id": "b3beb76f",
   "metadata": {},
   "source": [
    "## Q2 e"
   ]
  },
  {
   "cell_type": "markdown",
   "id": "f71afb99",
   "metadata": {},
   "source": [
    "#### All of the results were as expected, i.e. the same as the manual calculations."
   ]
  },
  {
   "cell_type": "markdown",
   "id": "1bf685e7",
   "metadata": {},
   "source": [
    "## Q3 d) Version 1"
   ]
  },
  {
   "cell_type": "code",
   "execution_count": 22,
   "id": "7943b13e",
   "metadata": {},
   "outputs": [
    {
     "name": "stdout",
     "output_type": "stream",
     "text": [
      "[80, 120, 77] [55, 152, 0] [147, 60, 55] [0, 120, 85]\n"
     ]
    }
   ],
   "source": [
    "# i Create list\n",
    "\n",
    "import statistics as st\n",
    "\n",
    "AVERAGE_RESTING_HEART_RATE = 70\n",
    "# Create the individual's lists\n",
    "person1 = [80, 120, 77]\n",
    "person2 = [55, 152, 0]\n",
    "person3 = [147, 60, 55]\n",
    "person4 = [0, 120, 85]\n",
    "\n",
    "print(person1, person2, person3, person4)"
   ]
  },
  {
   "cell_type": "code",
   "execution_count": 23,
   "id": "82f86a96",
   "metadata": {},
   "outputs": [
    {
     "name": "stdout",
     "output_type": "stream",
     "text": [
      "[80, 120, 77]\n",
      "[55, 152, 70]\n",
      "[147, 60, 55]\n",
      "[70, 120, 85]\n"
     ]
    }
   ],
   "source": [
    "# i continued, clean the data.\n",
    "# Clean the data,i.e. replace zeros with the average value of 70.\n",
    "for index, reading in enumerate(person1):\n",
    "        if reading == 0:\n",
    "            person1[index] = AVERAGE_RESTING_HEART_RATE\n",
    "print(person1)\n",
    "for index, reading in enumerate(person2):\n",
    "        if reading == 0:\n",
    "            person2[index] = AVERAGE_RESTING_HEART_RATE\n",
    "print(person2)\n",
    "for index, reading in enumerate(person3):\n",
    "        if reading == 0:\n",
    "            person3[index] = AVERAGE_RESTING_HEART_RATE\n",
    "print(person3)\n",
    "for index, reading in enumerate(person4):\n",
    "        if reading == 0:\n",
    "            person4[index] = AVERAGE_RESTING_HEART_RATE\n",
    "print(person4)\n"
   ]
  },
  {
   "cell_type": "code",
   "execution_count": 24,
   "id": "bfdcc12d",
   "metadata": {},
   "outputs": [
    {
     "name": "stdout",
     "output_type": "stream",
     "text": [
      "Person 1 Mean : 92.33.\n",
      "Person 1 Min  :    77.\n",
      "Person 1 Max  :   120.\n",
      "Person 1 StDev: 24.01.\n",
      "\n",
      "Person 2 Mean : 92.33.\n",
      "Person 2 Min  :    55.\n",
      "Person 2 Max  :   152.\n",
      "Person 2 StDev: 52.21.\n",
      "\n",
      "Person 3 Mean : 87.33.\n",
      "Person 3 Min  :    55.\n",
      "Person 3 Max  :   147.\n",
      "Person 3 StDev: 51.73.\n",
      "\n",
      "Person 4 Mean : 91.67.\n",
      "Person 4 Min  :    70.\n",
      "Person 4 Max  :   120.\n",
      "Person 4 StDev: 25.66.\n",
      "\n"
     ]
    }
   ],
   "source": [
    "# ii Print the summary statistics\n",
    "print(f\"Person 1 Mean : {st.mean(person1):5.2f}.\")\n",
    "print(f\"Person 1 Min  : {min(person1):>5}.\")\n",
    "print(f\"Person 1 Max  : {max(person1):>5}.\")\n",
    "print(f\"Person 1 StDev: {st.stdev(person1):5.2f}.\\n\")\n",
    "\n",
    "print(f\"Person 2 Mean : {st.mean(person2):5.2f}.\")\n",
    "print(f\"Person 2 Min  : {min(person2):>5}.\")\n",
    "print(f\"Person 2 Max  : {max(person2):>5}.\")\n",
    "print(f\"Person 2 StDev: {st.stdev(person2):5.2f}.\\n\")\n",
    "\n",
    "print(f\"Person 3 Mean : {st.mean(person3):5.2f}.\")\n",
    "print(f\"Person 3 Min  : {min(person3):>5}.\")\n",
    "print(f\"Person 3 Max  : {max(person3):>5}.\")\n",
    "print(f\"Person 3 StDev: {st.stdev(person3):5.2f}.\\n\")\n",
    "\n",
    "print(f\"Person 4 Mean : {st.mean(person4):5.2f}.\")\n",
    "print(f\"Person 4 Min  : {min(person4):>5}.\")\n",
    "print(f\"Person 4 Max  : {max(person4):>5}.\")\n",
    "print(f\"Person 4 StDev: {st.stdev(person4):5.2f}.\\n\")"
   ]
  },
  {
   "cell_type": "code",
   "execution_count": 25,
   "id": "83cf6f7d",
   "metadata": {},
   "outputs": [
    {
     "name": "stdout",
     "output_type": "stream",
     "text": [
      "List of averages:  [92.33, 92.33, 87.33, 91.67]\n",
      "Averages StDev:  2.41.\n",
      "\n"
     ]
    }
   ],
   "source": [
    "# iii List of averages and standard deviation\n",
    "average1 = round(st.mean(person1), 2)\n",
    "average2 = round(st.mean(person2), 2)\n",
    "average3 = round(st.mean(person3), 2)\n",
    "average4 = round(st.mean(person4), 2)\n",
    "averages = [average1, average2, average3, average4]\n",
    "\n",
    "sdeviation = st.stdev(averages)\n",
    "print(\"List of averages: \", averages)\n",
    "print(f\"Averages StDev: {sdeviation:5.2f}.\\n\")"
   ]
  },
  {
   "cell_type": "markdown",
   "id": "615ecb85",
   "metadata": {},
   "source": [
    "## Q3 d) Version 3, using loops and list comprehensions (part iii)"
   ]
  },
  {
   "cell_type": "code",
   "execution_count": 26,
   "id": "ec7f38fa",
   "metadata": {},
   "outputs": [
    {
     "name": "stdout",
     "output_type": "stream",
     "text": [
      "[[80, 120, 77], [55, 152, 0], [147, 60, 55], [0, 120, 85]]\n",
      "\n",
      "[[80, 120, 77], [55, 152, 70], [147, 60, 55], [70, 120, 85]]\n"
     ]
    }
   ],
   "source": [
    "# i Create list\n",
    "\n",
    "import statistics as st\n",
    "\n",
    "AVERAGE_RESTING_HEART_RATE = 70\n",
    "# Create the individual's lists\n",
    "person1 = [80, 120, 77]\n",
    "person2 = [55, 152, 0]\n",
    "person3 = [147, 60, 55]\n",
    "person4 = [0, 120, 85]\n",
    "\n",
    "people = [person1, person2, person3, person4]\n",
    "print(people)\n",
    "print()\n",
    "\n",
    "# Now clean the data,i.e. replace zeros with the average value of 70.\n",
    "for person in people:\n",
    "    for index, reading in enumerate(person):\n",
    "        if reading == 0:\n",
    "            person[index] = AVERAGE_RESTING_HEART_RATE\n",
    "print(people)            "
   ]
  },
  {
   "cell_type": "code",
   "execution_count": 27,
   "id": "26900f3d",
   "metadata": {},
   "outputs": [
    {
     "name": "stdout",
     "output_type": "stream",
     "text": [
      "Person 1 Mean : 92.33.\n",
      "Person 1 Min  :    77.\n",
      "Person 1 Max  :   120.\n",
      "Person 1 StDev: 24.01.\n",
      "\n",
      "Person 2 Mean : 92.33.\n",
      "Person 2 Min  :    77.\n",
      "Person 2 Max  :   120.\n",
      "Person 2 StDev: 24.01.\n",
      "\n",
      "Person 3 Mean : 87.33.\n",
      "Person 3 Min  :    77.\n",
      "Person 3 Max  :   120.\n",
      "Person 3 StDev: 24.01.\n",
      "\n",
      "Person 4 Mean : 91.67.\n",
      "Person 4 Min  :    77.\n",
      "Person 4 Max  :   120.\n",
      "Person 4 StDev: 24.01.\n",
      "\n"
     ]
    }
   ],
   "source": [
    "# ii Calculate stats for each person  \n",
    "for index, person in enumerate(people):\n",
    "    id = index + 1\n",
    "    print(f\"Person {id} Mean : {st.mean(person):5.2f}.\")\n",
    "    print(f\"Person {id} Min  : {min(person1):>5}.\")\n",
    "    print(f\"Person {id} Max  : {max(person1):>5}.\")\n",
    "    print(f\"Person {id} StDev: {st.stdev(person1):5.2f}.\\n\")"
   ]
  },
  {
   "cell_type": "code",
   "execution_count": 29,
   "id": "97b62e4d",
   "metadata": {},
   "outputs": [
    {
     "name": "stdout",
     "output_type": "stream",
     "text": [
      "List of averages:  [92.33, 92.33, 87.33, 91.67]\n",
      "Averages StDev:  2.41.\n",
      "\n"
     ]
    }
   ],
   "source": [
    "# iii List of averages\n",
    "averages = [round(st.mean(person), 2) for person in people]\n",
    "print(\"List of averages: \", averages)\n",
    "print(f\"Averages StDev: {st.stdev(averages):5.2f}.\\n\")"
   ]
  },
  {
   "cell_type": "code",
   "execution_count": null,
   "id": "2a1f9e54",
   "metadata": {},
   "outputs": [],
   "source": []
  }
 ],
 "metadata": {
  "kernelspec": {
   "display_name": "Python 3 (ipykernel)",
   "language": "python",
   "name": "python3"
  },
  "language_info": {
   "codemirror_mode": {
    "name": "ipython",
    "version": 3
   },
   "file_extension": ".py",
   "mimetype": "text/x-python",
   "name": "python",
   "nbconvert_exporter": "python",
   "pygments_lexer": "ipython3",
   "version": "3.9.7"
  }
 },
 "nbformat": 4,
 "nbformat_minor": 5
}
