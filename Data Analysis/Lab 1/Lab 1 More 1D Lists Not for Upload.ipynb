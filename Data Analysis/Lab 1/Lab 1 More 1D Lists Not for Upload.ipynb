{
 "cells": [
  {
   "cell_type": "markdown",
   "id": "feb78a48",
   "metadata": {},
   "source": [
    "# Lab 1 More 1D Lists Not for Upload"
   ]
  },
  {
   "cell_type": "markdown",
   "id": "c78aef79",
   "metadata": {},
   "source": [
    "## Q1 List manipulation"
   ]
  },
  {
   "cell_type": "markdown",
   "id": "e033dd2c",
   "metadata": {},
   "source": [
    "### Q1 a) Create a list"
   ]
  },
  {
   "cell_type": "code",
   "execution_count": 91,
   "id": "14434e46",
   "metadata": {},
   "outputs": [
    {
     "name": "stdout",
     "output_type": "stream",
     "text": [
      "[2, 7, 10, 33, 25, 15, 7, 27, 10, 16, 22, 30, 19, 10]\n"
     ]
    }
   ],
   "source": [
    "my_list = [2, 7, 10, 33, 25, 15, 7, 27, 10, 16, 22, 30, 19, 10]\n",
    "print(my_list)"
   ]
  },
  {
   "cell_type": "markdown",
   "id": "6ae98a4e",
   "metadata": {},
   "source": [
    "### Q1 b) Print list using a loop"
   ]
  },
  {
   "cell_type": "code",
   "execution_count": 92,
   "id": "ec8456d0",
   "metadata": {},
   "outputs": [
    {
     "name": "stdout",
     "output_type": "stream",
     "text": [
      "2\n",
      "7\n",
      "10\n",
      "33\n",
      "25\n",
      "15\n",
      "7\n",
      "27\n",
      "10\n",
      "16\n",
      "22\n",
      "30\n",
      "19\n",
      "10\n"
     ]
    }
   ],
   "source": [
    "for element in my_list:\n",
    "    print(element)"
   ]
  },
  {
   "cell_type": "markdown",
   "id": "3dadbb62",
   "metadata": {},
   "source": [
    "### Q1 c) Print list using a loop, excluding items divisible by 5"
   ]
  },
  {
   "cell_type": "code",
   "execution_count": 93,
   "id": "e21e7c08",
   "metadata": {},
   "outputs": [
    {
     "name": "stdout",
     "output_type": "stream",
     "text": [
      "2\n",
      "7\n",
      "33\n",
      "7\n",
      "27\n",
      "16\n",
      "22\n",
      "19\n"
     ]
    }
   ],
   "source": [
    "for element in my_list:\n",
    "    if element % 5 != 0:\n",
    "        print(element)"
   ]
  },
  {
   "cell_type": "markdown",
   "id": "0a984f44",
   "metadata": {},
   "source": [
    "### Q1 d) Enumerate"
   ]
  },
  {
   "cell_type": "code",
   "execution_count": 94,
   "id": "d64d318f",
   "metadata": {},
   "outputs": [
    {
     "name": "stdout",
     "output_type": "stream",
     "text": [
      "[3, 8, 11, 34, 26, 16, 8, 28, 11, 17, 23, 31, 20, 11]\n"
     ]
    }
   ],
   "source": [
    "for index, element in enumerate(my_list):\n",
    "    my_list[index] = element + 1\n",
    "print(my_list)"
   ]
  },
  {
   "cell_type": "markdown",
   "id": "be190410",
   "metadata": {},
   "source": [
    "### Q1e) Add values"
   ]
  },
  {
   "cell_type": "code",
   "execution_count": 95,
   "id": "8e37cefb",
   "metadata": {},
   "outputs": [
    {
     "name": "stdout",
     "output_type": "stream",
     "text": [
      "[3, 8, 11, 34, 26, 16, 8, 28, 11, 17, 23, 31, 20, 11, 18, 20, 17, 31]\n"
     ]
    }
   ],
   "source": [
    "my_list.append(18)\n",
    "my_list.append(20)\n",
    "my_list.append(17)\n",
    "my_list.append(31)\n",
    "\n",
    "print(my_list)"
   ]
  },
  {
   "cell_type": "markdown",
   "id": "155056c8",
   "metadata": {},
   "source": [
    "### Q1 f) New list"
   ]
  },
  {
   "cell_type": "code",
   "execution_count": 96,
   "id": "7c369c56",
   "metadata": {},
   "outputs": [
    {
     "name": "stdout",
     "output_type": "stream",
     "text": [
      "[8, 11, 34, 26, 16, 8, 28, 11, 17, 23, 31, 20, 11, 18, 20, 17]\n"
     ]
    }
   ],
   "source": [
    "my_list2 = my_list[1:-1]\n",
    "print(my_list2)"
   ]
  },
  {
   "cell_type": "markdown",
   "id": "a01de7ee",
   "metadata": {},
   "source": [
    "  ### Q1 g) pop()"
   ]
  },
  {
   "cell_type": "code",
   "execution_count": 97,
   "id": "7f59c3b3",
   "metadata": {},
   "outputs": [
    {
     "name": "stdout",
     "output_type": "stream",
     "text": [
      "11 34\n",
      "[8, 26, 16, 8, 28, 11, 17, 23, 31, 20, 11, 18, 20, 17]\n"
     ]
    }
   ],
   "source": [
    "# Careful of the order, pop(1), pop(2) will give the wrong result as the indexes of all emelemts after the popped element have changed, but pop(1), pop(1) will give the correct result\n",
    "print(my_list2[1], my_list2[2])\n",
    "my_list2.pop(2)\n",
    "my_list2.pop(1)\n",
    "print(my_list2)"
   ]
  },
  {
   "cell_type": "markdown",
   "id": "29522cda",
   "metadata": {},
   "source": [
    "## Q2 List statistics"
   ]
  },
  {
   "cell_type": "markdown",
   "id": "1f8ffeff",
   "metadata": {},
   "source": [
    "## Q2 a) Create list"
   ]
  },
  {
   "cell_type": "code",
   "execution_count": 109,
   "id": "0eb855a6",
   "metadata": {},
   "outputs": [
    {
     "name": "stdout",
     "output_type": "stream",
     "text": [
      "[2, 7, 10, 33, 25, 15, 7, 27, 10, 16, 22, 30, 19, 10]\n"
     ]
    }
   ],
   "source": [
    "my_list = [2, 7, 10, 33, 25, 15, 7, 27, 10, 16, 22, 30, 19, 10]\n",
    "print(my_list)"
   ]
  },
  {
   "cell_type": "markdown",
   "id": "f0373a75",
   "metadata": {},
   "source": [
    "## Q2 b) Statistics"
   ]
  },
  {
   "cell_type": "code",
   "execution_count": 111,
   "id": "12579fbe",
   "metadata": {},
   "outputs": [
    {
     "name": "stdout",
     "output_type": "stream",
     "text": [
      "mean 16.642857142857142\n",
      "median 15.5\n",
      "median low 15\n",
      "median high 16\n",
      "mode 10\n",
      "pvariance 85.2295918367347\n",
      "pstdev 9.231987426157744\n",
      "variance 91.78571428571429\n",
      "stdev 9.58048611948863\n"
     ]
    }
   ],
   "source": [
    "import statistics as st\n",
    "print(\"mean\", st.mean(my_list))\n",
    "print(\"median\", st.median(my_list))\n",
    "print(\"median low\", st.median_low(my_list))\n",
    "print(\"median high\", st.median_high(my_list))\n",
    "print(\"mode\", st.mode(my_list))\n",
    "print(\"pvariance\", st.pvariance(my_list))\n",
    "print(\"pstdev\", st.pstdev(my_list))\n",
    "print(\"variance\", st.variance(my_list))\n",
    "print(\"stdev\", st.stdev(my_list))"
   ]
  },
  {
   "cell_type": "markdown",
   "id": "3cda845d",
   "metadata": {},
   "source": [
    "### Q2 c) Explanations\n",
    "mean -> Average\n",
    "\n",
    "median -> The number that would appear in the middle if the numbers were ordered, for an unecen list of elements.  If the number of elements is even, then it is the averahe of the middle 2 numbers.  \n",
    "\n",
    "median_low -> For an uneven list of elements, it is the same as the median, for an even number of elements, it is the lower of the 2 median elements.\n",
    "\n",
    "median_high -> For an uneven list of elements, it is the same as the median, for an uneven number of elements, it is the higher of the 2 median elements.\n",
    "\n",
    "mode -> The element that appears most often in the list, or the first one if there are more than one elements appearing the most number of times.\n",
    "\n",
    "population variance -> This is the sum of the squares of the difference between each population element and the average of a population, divided by the population size.\n",
    "\n",
    "population standard deviation -> The square root of the population variance\n",
    "\n",
    "sample variance -> This is the sum of the squares of the difference between each sample element and the average of the sample, divided by the sample size minus 1.\n",
    "\n",
    "sample standard deviation -> The square root of the sample variance"
   ]
  },
  {
   "cell_type": "code",
   "execution_count": null,
   "id": "c46d90eb",
   "metadata": {},
   "outputs": [],
   "source": []
  }
 ],
 "metadata": {
  "kernelspec": {
   "display_name": "Python 3 (ipykernel)",
   "language": "python",
   "name": "python3"
  },
  "language_info": {
   "codemirror_mode": {
    "name": "ipython",
    "version": 3
   },
   "file_extension": ".py",
   "mimetype": "text/x-python",
   "name": "python",
   "nbconvert_exporter": "python",
   "pygments_lexer": "ipython3",
   "version": "3.9.13"
  }
 },
 "nbformat": 4,
 "nbformat_minor": 5
}
